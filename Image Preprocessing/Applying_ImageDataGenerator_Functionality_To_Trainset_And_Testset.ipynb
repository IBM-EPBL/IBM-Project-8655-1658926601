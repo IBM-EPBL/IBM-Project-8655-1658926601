{
  "nbformat": 4,
  "nbformat_minor": 0,
  "metadata": {
    "colab": {
      "provenance": [],
      "collapsed_sections": []
    },
    "kernelspec": {
      "name": "python3",
      "display_name": "Python 3"
    },
    "language_info": {
      "name": "python"
    }
  },
  "cells": [
    {
      "cell_type": "code",
      "source": [
        "# split imbalanced dataset into train and test sets without stratification\n",
        "from collections import Counter\n",
        "from sklearn.datasets import make_classification\n",
        "from sklearn.model_selection import train_test_split\n",
        "# create dataset\n",
        "X, y = make_classification(n_samples=100, weights=[0.94], flip_y=0, random_state=1)\n",
        "print(Counter(y))\n",
        "# split into train test sets\n",
        "X_train, X_test, y_train, y_test = train_test_split(X, y, test_size=0.50, random_state=1)\n",
        "print(Counter(y_train))\n",
        "print(Counter(y_test))"
      ],
      "metadata": {
        "colab": {
          "base_uri": "https://localhost:8080/"
        },
        "id": "_MPiqd6WNsdD",
        "outputId": "b3dbec25-9b4a-4a58-9073-711205cec973"
      },
      "execution_count": null,
      "outputs": [
        {
          "output_type": "stream",
          "name": "stdout",
          "text": [
            "Counter({0: 94, 1: 6})\n",
            "Counter({0: 45, 1: 5})\n",
            "Counter({0: 49, 1: 1})\n"
          ]
        }
      ]
    }
  ]
}