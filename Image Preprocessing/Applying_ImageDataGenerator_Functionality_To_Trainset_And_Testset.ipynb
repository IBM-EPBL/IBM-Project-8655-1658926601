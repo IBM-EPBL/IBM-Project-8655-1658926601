{
  "cells": [
    {
      "cell_type": "code",
      "execution_count": null,
      "id": "9266b01d",
      "metadata": {
        "id": "9266b01d"
      },
      "outputs": [],
      "source": [
        "import keras"
      ]
    },
    {
      "cell_type": "code",
      "execution_count": null,
      "id": "1add6cd3",
      "metadata": {
        "id": "1add6cd3"
      },
      "outputs": [],
      "source": [
        "from keras.preprocessing.image import ImageDataGenerator"
      ]
    },
    {
      "cell_type": "code",
      "execution_count": null,
      "id": "86fa5581",
      "metadata": {
        "id": "86fa5581"
      },
      "outputs": [],
      "source": [
        "train_datagen=ImageDataGenerator(rescale=1./255,shear_range=0.2,rotation_range=180,zoom_range=0.2,horizontal_flip=True)\n",
        "test_datagen=ImageDataGenerator(rescale=1./255)"
      ]
    },
    {
      "cell_type": "code",
      "execution_count": null,
      "id": "6a57f50c",
      "metadata": {
        "colab": {
          "base_uri": "https://localhost:8080/"
        },
        "id": "6a57f50c",
        "outputId": "78f4fb7a-d273-4921-b9be-0e77d0aa045f"
      },
      "outputs": [
        {
          "output_type": "stream",
          "name": "stdout",
          "text": [
            "Found 42 images belonging to 3 classes.\n"
          ]
        }
      ],
      "source": [
        "x_train = train_datagen.flow_from_directory(r'/content/Dataset/train',target_size=(128,128),batch_size=32,class_mode='binary')"
      ]
    },
    {
      "cell_type": "code",
      "execution_count": null,
      "id": "be915be3",
      "metadata": {
        "id": "be915be3",
        "outputId": "eece92d8-a0c4-404b-cdb8-2712c356e912",
        "colab": {
          "base_uri": "https://localhost:8080/"
        }
      },
      "outputs": [
        {
          "output_type": "stream",
          "name": "stdout",
          "text": [
            "Found 42 images belonging to 3 classes.\n"
          ]
        }
      ],
      "source": [
        "x_test=test_datagen.flow_from_directory(r'/content/Dataset/test',target_size=(128,128),batch_size=32,class_mode='binary')"
      ]
    }
  ],
  "metadata": {
    "kernelspec": {
      "display_name": "Python 3 (ipykernel)",
      "language": "python",
      "name": "python3"
    },
    "language_info": {
      "codemirror_mode": {
        "name": "ipython",
        "version": 3
      },
      "file_extension": ".py",
      "mimetype": "text/x-python",
      "name": "python",
      "nbconvert_exporter": "python",
      "pygments_lexer": "ipython3",
      "version": "3.9.7"
    },
    "colab": {
      "provenance": [],
      "collapsed_sections": []
    }
  },
  "nbformat": 4,
  "nbformat_minor": 5
}